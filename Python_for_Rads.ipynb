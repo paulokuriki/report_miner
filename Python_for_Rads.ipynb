{
  "nbformat": 4,
  "nbformat_minor": 0,
  "metadata": {
    "colab": {
      "name": "Python for Rads.ipynb",
      "provenance": [],
      "collapsed_sections": [],
      "authorship_tag": "ABX9TyM0blJa6OI1tWSIDKb3evdm",
      "include_colab_link": true
    },
    "kernelspec": {
      "name": "python3",
      "display_name": "Python 3"
    },
    "language_info": {
      "name": "python"
    },
    "widgets": {
      "application/vnd.jupyter.widget-state+json": {
        "091457196b7946d78b49ae09fb71cd93": {
          "model_module": "@jupyter-widgets/controls",
          "model_name": "VBoxModel",
          "model_module_version": "1.5.0",
          "state": {
            "_view_name": "VBoxView",
            "_dom_classes": [
              "widget-interact"
            ],
            "_model_name": "VBoxModel",
            "_view_module": "@jupyter-widgets/controls",
            "_model_module_version": "1.5.0",
            "_view_count": null,
            "_view_module_version": "1.5.0",
            "box_style": "",
            "layout": "IPY_MODEL_2b81a721b5e14fa792ffddbd0d040253",
            "_model_module": "@jupyter-widgets/controls",
            "children": [
              "IPY_MODEL_e97e08eec1794a509e5d403866211197",
              "IPY_MODEL_4fee8c1ce0a94e2fb2f7f262739623d4",
              "IPY_MODEL_6c7e72a799274ff288bf31618dd9dc79",
              "IPY_MODEL_64c57d31916147cfbfa773a09101eb65",
              "IPY_MODEL_fdcb01822da645409eef7e5b374d21c6",
              "IPY_MODEL_c9b85e080bc4409aa239c08aa0aa9117",
              "IPY_MODEL_d1019bc5c58d4bb29835a4ab42c39148"
            ]
          }
        },
        "2b81a721b5e14fa792ffddbd0d040253": {
          "model_module": "@jupyter-widgets/base",
          "model_name": "LayoutModel",
          "model_module_version": "1.2.0",
          "state": {
            "_view_name": "LayoutView",
            "grid_template_rows": null,
            "right": null,
            "justify_content": null,
            "_view_module": "@jupyter-widgets/base",
            "overflow": null,
            "_model_module_version": "1.2.0",
            "_view_count": null,
            "flex_flow": null,
            "width": null,
            "min_width": null,
            "border": null,
            "align_items": null,
            "bottom": null,
            "_model_module": "@jupyter-widgets/base",
            "top": null,
            "grid_column": null,
            "overflow_y": null,
            "overflow_x": null,
            "grid_auto_flow": null,
            "grid_area": null,
            "grid_template_columns": null,
            "flex": null,
            "_model_name": "LayoutModel",
            "justify_items": null,
            "grid_row": null,
            "max_height": null,
            "align_content": null,
            "visibility": null,
            "align_self": null,
            "height": null,
            "min_height": null,
            "padding": null,
            "grid_auto_rows": null,
            "grid_gap": null,
            "max_width": null,
            "order": null,
            "_view_module_version": "1.2.0",
            "grid_template_areas": null,
            "object_position": null,
            "object_fit": null,
            "grid_auto_columns": null,
            "margin": null,
            "display": null,
            "left": null
          }
        },
        "e97e08eec1794a509e5d403866211197": {
          "model_module": "@jupyter-widgets/controls",
          "model_name": "IntSliderModel",
          "model_module_version": "1.5.0",
          "state": {
            "_view_name": "IntSliderView",
            "style": "IPY_MODEL_124dde88d4ee4d288fd507ea2bca1f1b",
            "_dom_classes": [],
            "description": "Scroll:",
            "step": 1,
            "_model_name": "IntSliderModel",
            "orientation": "horizontal",
            "max": 98,
            "_view_module": "@jupyter-widgets/controls",
            "_model_module_version": "1.5.0",
            "value": 54,
            "_view_count": null,
            "disabled": false,
            "_view_module_version": "1.5.0",
            "min": 1,
            "continuous_update": true,
            "readout_format": "d",
            "description_tooltip": null,
            "readout": true,
            "_model_module": "@jupyter-widgets/controls",
            "layout": "IPY_MODEL_ee7043bf92814089927b3a43442545c0"
          }
        },
        "4fee8c1ce0a94e2fb2f7f262739623d4": {
          "model_module": "@jupyter-widgets/controls",
          "model_name": "IntSliderModel",
          "model_module_version": "1.5.0",
          "state": {
            "_view_name": "IntSliderView",
            "style": "IPY_MODEL_84edf0b0ceee4e46b96236951fa5f8ca",
            "_dom_classes": [],
            "description": "Window Level:",
            "step": 1,
            "_model_name": "IntSliderModel",
            "orientation": "horizontal",
            "max": 1000,
            "_view_module": "@jupyter-widgets/controls",
            "_model_module_version": "1.5.0",
            "value": -600,
            "_view_count": null,
            "disabled": false,
            "_view_module_version": "1.5.0",
            "min": -1000,
            "continuous_update": true,
            "readout_format": "d",
            "description_tooltip": null,
            "readout": true,
            "_model_module": "@jupyter-widgets/controls",
            "layout": "IPY_MODEL_ed4a34217c724419899caba4f773da73"
          }
        },
        "6c7e72a799274ff288bf31618dd9dc79": {
          "model_module": "@jupyter-widgets/controls",
          "model_name": "IntSliderModel",
          "model_module_version": "1.5.0",
          "state": {
            "_view_name": "IntSliderView",
            "style": "IPY_MODEL_952c2b44210d45bebb5cb886ef103d77",
            "_dom_classes": [],
            "description": "Window Width:",
            "step": 1,
            "_model_name": "IntSliderModel",
            "orientation": "horizontal",
            "max": 2000,
            "_view_module": "@jupyter-widgets/controls",
            "_model_module_version": "1.5.0",
            "value": 1500,
            "_view_count": null,
            "disabled": false,
            "_view_module_version": "1.5.0",
            "min": 0,
            "continuous_update": true,
            "readout_format": "d",
            "description_tooltip": null,
            "readout": true,
            "_model_module": "@jupyter-widgets/controls",
            "layout": "IPY_MODEL_e712964284ba4c8a9ea0627c8749841d"
          }
        },
        "64c57d31916147cfbfa773a09101eb65": {
          "model_module": "@jupyter-widgets/controls",
          "model_name": "IntSliderModel",
          "model_module_version": "1.5.0",
          "state": {
            "_view_name": "IntSliderView",
            "style": "IPY_MODEL_00be5d5d81454c73bf79e3bb3b3eda2c",
            "_dom_classes": [],
            "description": "Zoom:",
            "step": 1,
            "_model_name": "IntSliderModel",
            "orientation": "horizontal",
            "max": 10,
            "_view_module": "@jupyter-widgets/controls",
            "_model_module_version": "1.5.0",
            "value": 4,
            "_view_count": null,
            "disabled": false,
            "_view_module_version": "1.5.0",
            "min": 1,
            "continuous_update": true,
            "readout_format": "d",
            "description_tooltip": null,
            "readout": true,
            "_model_module": "@jupyter-widgets/controls",
            "layout": "IPY_MODEL_924352a9080e43c58d3b0bbc3756f6b7"
          }
        },
        "fdcb01822da645409eef7e5b374d21c6": {
          "model_module": "@jupyter-widgets/controls",
          "model_name": "DropdownModel",
          "model_module_version": "1.5.0",
          "state": {
            "_options_labels": [
              "custom",
              "lung",
              "mediastinum",
              "bone"
            ],
            "_view_name": "DropdownView",
            "style": "IPY_MODEL_cf709d26a50f4259b06018282dce3060",
            "_dom_classes": [],
            "description": "predefined_window",
            "_model_name": "DropdownModel",
            "index": 0,
            "_view_module": "@jupyter-widgets/controls",
            "_model_module_version": "1.5.0",
            "_view_count": null,
            "disabled": false,
            "_view_module_version": "1.5.0",
            "description_tooltip": null,
            "_model_module": "@jupyter-widgets/controls",
            "layout": "IPY_MODEL_4020b72873da4b1688543a7ac3617841"
          }
        },
        "c9b85e080bc4409aa239c08aa0aa9117": {
          "model_module": "@jupyter-widgets/controls",
          "model_name": "CheckboxModel",
          "model_module_version": "1.5.0",
          "state": {
            "_view_name": "CheckboxView",
            "style": "IPY_MODEL_fb8859b84ed94164af460dfb41e5d854",
            "_dom_classes": [],
            "description": "save_to_file",
            "_model_name": "CheckboxModel",
            "_view_module": "@jupyter-widgets/controls",
            "_model_module_version": "1.5.0",
            "value": false,
            "_view_count": null,
            "disabled": false,
            "_view_module_version": "1.5.0",
            "indent": true,
            "description_tooltip": null,
            "_model_module": "@jupyter-widgets/controls",
            "layout": "IPY_MODEL_2b136d1047ad41d895d3bfb58d8ad6ca"
          }
        },
        "d1019bc5c58d4bb29835a4ab42c39148": {
          "model_module": "@jupyter-widgets/output",
          "model_name": "OutputModel",
          "model_module_version": "1.0.0",
          "state": {
            "_view_name": "OutputView",
            "msg_id": "",
            "_dom_classes": [],
            "_model_name": "OutputModel",
            "outputs": [
              {
                "output_type": "stream",
                "name": "stdout",
                "text": [
                  "Slice: 54     WL: -600     WW: 1500     Zoom: 4\n"
                ]
              },
              {
                "output_type": "display_data",
                "data": {
                  "image/png": "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\n",
                  "text/plain": "<Figure size 288x288 with 1 Axes>"
                },
                "metadata": {
                  "needs_background": "light"
                }
              }
            ],
            "_view_module": "@jupyter-widgets/output",
            "_model_module_version": "1.0.0",
            "_view_count": null,
            "_view_module_version": "1.0.0",
            "layout": "IPY_MODEL_4c45b2b96cc34298bae5456d0538795f",
            "_model_module": "@jupyter-widgets/output"
          }
        },
        "124dde88d4ee4d288fd507ea2bca1f1b": {
          "model_module": "@jupyter-widgets/controls",
          "model_name": "SliderStyleModel",
          "model_module_version": "1.5.0",
          "state": {
            "_view_name": "StyleView",
            "handle_color": null,
            "_model_name": "SliderStyleModel",
            "description_width": "",
            "_view_module": "@jupyter-widgets/base",
            "_model_module_version": "1.5.0",
            "_view_count": null,
            "_view_module_version": "1.2.0",
            "_model_module": "@jupyter-widgets/controls"
          }
        },
        "ee7043bf92814089927b3a43442545c0": {
          "model_module": "@jupyter-widgets/base",
          "model_name": "LayoutModel",
          "model_module_version": "1.2.0",
          "state": {
            "_view_name": "LayoutView",
            "grid_template_rows": null,
            "right": null,
            "justify_content": null,
            "_view_module": "@jupyter-widgets/base",
            "overflow": null,
            "_model_module_version": "1.2.0",
            "_view_count": null,
            "flex_flow": null,
            "width": null,
            "min_width": null,
            "border": null,
            "align_items": null,
            "bottom": null,
            "_model_module": "@jupyter-widgets/base",
            "top": null,
            "grid_column": null,
            "overflow_y": null,
            "overflow_x": null,
            "grid_auto_flow": null,
            "grid_area": null,
            "grid_template_columns": null,
            "flex": null,
            "_model_name": "LayoutModel",
            "justify_items": null,
            "grid_row": null,
            "max_height": null,
            "align_content": null,
            "visibility": null,
            "align_self": null,
            "height": null,
            "min_height": null,
            "padding": null,
            "grid_auto_rows": null,
            "grid_gap": null,
            "max_width": null,
            "order": null,
            "_view_module_version": "1.2.0",
            "grid_template_areas": null,
            "object_position": null,
            "object_fit": null,
            "grid_auto_columns": null,
            "margin": null,
            "display": null,
            "left": null
          }
        },
        "84edf0b0ceee4e46b96236951fa5f8ca": {
          "model_module": "@jupyter-widgets/controls",
          "model_name": "SliderStyleModel",
          "model_module_version": "1.5.0",
          "state": {
            "_view_name": "StyleView",
            "handle_color": null,
            "_model_name": "SliderStyleModel",
            "description_width": "",
            "_view_module": "@jupyter-widgets/base",
            "_model_module_version": "1.5.0",
            "_view_count": null,
            "_view_module_version": "1.2.0",
            "_model_module": "@jupyter-widgets/controls"
          }
        },
        "ed4a34217c724419899caba4f773da73": {
          "model_module": "@jupyter-widgets/base",
          "model_name": "LayoutModel",
          "model_module_version": "1.2.0",
          "state": {
            "_view_name": "LayoutView",
            "grid_template_rows": null,
            "right": null,
            "justify_content": null,
            "_view_module": "@jupyter-widgets/base",
            "overflow": null,
            "_model_module_version": "1.2.0",
            "_view_count": null,
            "flex_flow": null,
            "width": null,
            "min_width": null,
            "border": null,
            "align_items": null,
            "bottom": null,
            "_model_module": "@jupyter-widgets/base",
            "top": null,
            "grid_column": null,
            "overflow_y": null,
            "overflow_x": null,
            "grid_auto_flow": null,
            "grid_area": null,
            "grid_template_columns": null,
            "flex": null,
            "_model_name": "LayoutModel",
            "justify_items": null,
            "grid_row": null,
            "max_height": null,
            "align_content": null,
            "visibility": null,
            "align_self": null,
            "height": null,
            "min_height": null,
            "padding": null,
            "grid_auto_rows": null,
            "grid_gap": null,
            "max_width": null,
            "order": null,
            "_view_module_version": "1.2.0",
            "grid_template_areas": null,
            "object_position": null,
            "object_fit": null,
            "grid_auto_columns": null,
            "margin": null,
            "display": null,
            "left": null
          }
        },
        "952c2b44210d45bebb5cb886ef103d77": {
          "model_module": "@jupyter-widgets/controls",
          "model_name": "SliderStyleModel",
          "model_module_version": "1.5.0",
          "state": {
            "_view_name": "StyleView",
            "handle_color": null,
            "_model_name": "SliderStyleModel",
            "description_width": "",
            "_view_module": "@jupyter-widgets/base",
            "_model_module_version": "1.5.0",
            "_view_count": null,
            "_view_module_version": "1.2.0",
            "_model_module": "@jupyter-widgets/controls"
          }
        },
        "e712964284ba4c8a9ea0627c8749841d": {
          "model_module": "@jupyter-widgets/base",
          "model_name": "LayoutModel",
          "model_module_version": "1.2.0",
          "state": {
            "_view_name": "LayoutView",
            "grid_template_rows": null,
            "right": null,
            "justify_content": null,
            "_view_module": "@jupyter-widgets/base",
            "overflow": null,
            "_model_module_version": "1.2.0",
            "_view_count": null,
            "flex_flow": null,
            "width": null,
            "min_width": null,
            "border": null,
            "align_items": null,
            "bottom": null,
            "_model_module": "@jupyter-widgets/base",
            "top": null,
            "grid_column": null,
            "overflow_y": null,
            "overflow_x": null,
            "grid_auto_flow": null,
            "grid_area": null,
            "grid_template_columns": null,
            "flex": null,
            "_model_name": "LayoutModel",
            "justify_items": null,
            "grid_row": null,
            "max_height": null,
            "align_content": null,
            "visibility": null,
            "align_self": null,
            "height": null,
            "min_height": null,
            "padding": null,
            "grid_auto_rows": null,
            "grid_gap": null,
            "max_width": null,
            "order": null,
            "_view_module_version": "1.2.0",
            "grid_template_areas": null,
            "object_position": null,
            "object_fit": null,
            "grid_auto_columns": null,
            "margin": null,
            "display": null,
            "left": null
          }
        },
        "00be5d5d81454c73bf79e3bb3b3eda2c": {
          "model_module": "@jupyter-widgets/controls",
          "model_name": "SliderStyleModel",
          "model_module_version": "1.5.0",
          "state": {
            "_view_name": "StyleView",
            "handle_color": null,
            "_model_name": "SliderStyleModel",
            "description_width": "",
            "_view_module": "@jupyter-widgets/base",
            "_model_module_version": "1.5.0",
            "_view_count": null,
            "_view_module_version": "1.2.0",
            "_model_module": "@jupyter-widgets/controls"
          }
        },
        "924352a9080e43c58d3b0bbc3756f6b7": {
          "model_module": "@jupyter-widgets/base",
          "model_name": "LayoutModel",
          "model_module_version": "1.2.0",
          "state": {
            "_view_name": "LayoutView",
            "grid_template_rows": null,
            "right": null,
            "justify_content": null,
            "_view_module": "@jupyter-widgets/base",
            "overflow": null,
            "_model_module_version": "1.2.0",
            "_view_count": null,
            "flex_flow": null,
            "width": null,
            "min_width": null,
            "border": null,
            "align_items": null,
            "bottom": null,
            "_model_module": "@jupyter-widgets/base",
            "top": null,
            "grid_column": null,
            "overflow_y": null,
            "overflow_x": null,
            "grid_auto_flow": null,
            "grid_area": null,
            "grid_template_columns": null,
            "flex": null,
            "_model_name": "LayoutModel",
            "justify_items": null,
            "grid_row": null,
            "max_height": null,
            "align_content": null,
            "visibility": null,
            "align_self": null,
            "height": null,
            "min_height": null,
            "padding": null,
            "grid_auto_rows": null,
            "grid_gap": null,
            "max_width": null,
            "order": null,
            "_view_module_version": "1.2.0",
            "grid_template_areas": null,
            "object_position": null,
            "object_fit": null,
            "grid_auto_columns": null,
            "margin": null,
            "display": null,
            "left": null
          }
        },
        "cf709d26a50f4259b06018282dce3060": {
          "model_module": "@jupyter-widgets/controls",
          "model_name": "DescriptionStyleModel",
          "model_module_version": "1.5.0",
          "state": {
            "_view_name": "StyleView",
            "_model_name": "DescriptionStyleModel",
            "description_width": "",
            "_view_module": "@jupyter-widgets/base",
            "_model_module_version": "1.5.0",
            "_view_count": null,
            "_view_module_version": "1.2.0",
            "_model_module": "@jupyter-widgets/controls"
          }
        },
        "4020b72873da4b1688543a7ac3617841": {
          "model_module": "@jupyter-widgets/base",
          "model_name": "LayoutModel",
          "model_module_version": "1.2.0",
          "state": {
            "_view_name": "LayoutView",
            "grid_template_rows": null,
            "right": null,
            "justify_content": null,
            "_view_module": "@jupyter-widgets/base",
            "overflow": null,
            "_model_module_version": "1.2.0",
            "_view_count": null,
            "flex_flow": null,
            "width": null,
            "min_width": null,
            "border": null,
            "align_items": null,
            "bottom": null,
            "_model_module": "@jupyter-widgets/base",
            "top": null,
            "grid_column": null,
            "overflow_y": null,
            "overflow_x": null,
            "grid_auto_flow": null,
            "grid_area": null,
            "grid_template_columns": null,
            "flex": null,
            "_model_name": "LayoutModel",
            "justify_items": null,
            "grid_row": null,
            "max_height": null,
            "align_content": null,
            "visibility": null,
            "align_self": null,
            "height": null,
            "min_height": null,
            "padding": null,
            "grid_auto_rows": null,
            "grid_gap": null,
            "max_width": null,
            "order": null,
            "_view_module_version": "1.2.0",
            "grid_template_areas": null,
            "object_position": null,
            "object_fit": null,
            "grid_auto_columns": null,
            "margin": null,
            "display": null,
            "left": null
          }
        },
        "fb8859b84ed94164af460dfb41e5d854": {
          "model_module": "@jupyter-widgets/controls",
          "model_name": "DescriptionStyleModel",
          "model_module_version": "1.5.0",
          "state": {
            "_view_name": "StyleView",
            "_model_name": "DescriptionStyleModel",
            "description_width": "",
            "_view_module": "@jupyter-widgets/base",
            "_model_module_version": "1.5.0",
            "_view_count": null,
            "_view_module_version": "1.2.0",
            "_model_module": "@jupyter-widgets/controls"
          }
        },
        "2b136d1047ad41d895d3bfb58d8ad6ca": {
          "model_module": "@jupyter-widgets/base",
          "model_name": "LayoutModel",
          "model_module_version": "1.2.0",
          "state": {
            "_view_name": "LayoutView",
            "grid_template_rows": null,
            "right": null,
            "justify_content": null,
            "_view_module": "@jupyter-widgets/base",
            "overflow": null,
            "_model_module_version": "1.2.0",
            "_view_count": null,
            "flex_flow": null,
            "width": null,
            "min_width": null,
            "border": null,
            "align_items": null,
            "bottom": null,
            "_model_module": "@jupyter-widgets/base",
            "top": null,
            "grid_column": null,
            "overflow_y": null,
            "overflow_x": null,
            "grid_auto_flow": null,
            "grid_area": null,
            "grid_template_columns": null,
            "flex": null,
            "_model_name": "LayoutModel",
            "justify_items": null,
            "grid_row": null,
            "max_height": null,
            "align_content": null,
            "visibility": null,
            "align_self": null,
            "height": null,
            "min_height": null,
            "padding": null,
            "grid_auto_rows": null,
            "grid_gap": null,
            "max_width": null,
            "order": null,
            "_view_module_version": "1.2.0",
            "grid_template_areas": null,
            "object_position": null,
            "object_fit": null,
            "grid_auto_columns": null,
            "margin": null,
            "display": null,
            "left": null
          }
        },
        "4c45b2b96cc34298bae5456d0538795f": {
          "model_module": "@jupyter-widgets/base",
          "model_name": "LayoutModel",
          "model_module_version": "1.2.0",
          "state": {
            "_view_name": "LayoutView",
            "grid_template_rows": null,
            "right": null,
            "justify_content": null,
            "_view_module": "@jupyter-widgets/base",
            "overflow": null,
            "_model_module_version": "1.2.0",
            "_view_count": null,
            "flex_flow": null,
            "width": null,
            "min_width": null,
            "border": null,
            "align_items": null,
            "bottom": null,
            "_model_module": "@jupyter-widgets/base",
            "top": null,
            "grid_column": null,
            "overflow_y": null,
            "overflow_x": null,
            "grid_auto_flow": null,
            "grid_area": null,
            "grid_template_columns": null,
            "flex": null,
            "_model_name": "LayoutModel",
            "justify_items": null,
            "grid_row": null,
            "max_height": null,
            "align_content": null,
            "visibility": null,
            "align_self": null,
            "height": null,
            "min_height": null,
            "padding": null,
            "grid_auto_rows": null,
            "grid_gap": null,
            "max_width": null,
            "order": null,
            "_view_module_version": "1.2.0",
            "grid_template_areas": null,
            "object_position": null,
            "object_fit": null,
            "grid_auto_columns": null,
            "margin": null,
            "display": null,
            "left": null
          }
        }
      }
    }
  },
  "cells": [
    {
      "cell_type": "markdown",
      "metadata": {
        "id": "view-in-github",
        "colab_type": "text"
      },
      "source": [
        "<a href=\"https://colab.research.google.com/github/paulokuriki/report_miner/blob/main/Python_for_Rads.ipynb\" target=\"_parent\"><img src=\"https://colab.research.google.com/assets/colab-badge.svg\" alt=\"Open In Colab\"/></a>"
      ]
    },
    {
      "cell_type": "markdown",
      "metadata": {
        "id": "yxr4Ts8l8LpW"
      },
      "source": [
        "# **JPR 2021**\n",
        "\n",
        "<img src=\"https://github.com/paulokuriki/python_for_rads/blob/master/banner.png?raw=true\">\n"
      ]
    },
    {
      "cell_type": "markdown",
      "metadata": {
        "id": "9-3seVlqIcw1"
      },
      "source": [
        "---\n",
        "# Dr. Paulo Kuriki\n",
        "### Neurorradiologista pela UNIFESP/EPM\n",
        "### Neurorradiologista na DASA e CURA\n",
        "### Médico Especialista em AI no DASA INOVA\n",
        "\n",
        "<i>Não há conflito de interesse nesta apresentação</i>\n",
        "\n",
        "<i>There is no conflict of interest in this presentation</i>\n",
        "\n",
        "\n",
        "---\n"
      ]
    },
    {
      "cell_type": "markdown",
      "metadata": {
        "id": "_Bm92J8cyo38"
      },
      "source": [
        "# **Introdução ao Python para Radiologistas**\n",
        "\n",
        "<img src=\"https://github.com/paulokuriki/python_for_rads/blob/master/python.png?raw=true\">"
      ]
    },
    {
      "cell_type": "markdown",
      "metadata": {
        "id": "CDZ2wUiu92zn"
      },
      "source": [
        "\n",
        "\n",
        "---\n",
        "\n"
      ]
    },
    {
      "cell_type": "markdown",
      "metadata": {
        "id": "Pa1YFHG89Lg5"
      },
      "source": [
        "# **Por que aprender Python?**\n",
        "\n",
        "1.   Linguagem de programação fácil de aprender\n",
        "\n",
        "2.   Principal linguagem utilizada em AI\n",
        "\n",
        "3.   Várias bibliotecas prontas para uso na radiologia\n",
        "\n",
        "4.   Open Source\n",
        "\n",
        "5.   Portabilidade: Windows, Mac, Linux\n",
        "\n",
        "6.   **Possibilita criar seu próprio DICOM VIEWER (desafio Feres Secaf)**"
      ]
    },
    {
      "cell_type": "markdown",
      "metadata": {
        "id": "BwDK3PPaBSZ9"
      },
      "source": [
        "<img src=\"https://github.com/paulokuriki/python_for_rads/blob/master/code.jpg?raw=true\">\n",
        "\n",
        "---"
      ]
    },
    {
      "cell_type": "markdown",
      "metadata": {
        "id": "aIxSDNn6A6fl"
      },
      "source": [
        "# **Por onde começar?**\n",
        "\n",
        "*   Programar na web no **Google Colab** - [colab.research.google.com](https://colab.research.google.com/)\n",
        "*   Rodar um **Jupyter Notebook** - [anaconda.com](https://www.anaconda.com/products/individual)\n",
        "*   Executar **Python** na sua máquina - [python.org](https://www.python.org/downloads/)\n"
      ]
    },
    {
      "cell_type": "markdown",
      "metadata": {
        "id": "YBwH120GEyOD"
      },
      "source": [
        "<img src=\"https://github.com/paulokuriki/python_for_rads/blob/master/logo_jupyter.png?raw=true\">"
      ]
    },
    {
      "cell_type": "markdown",
      "metadata": {
        "id": "kB8bjfWhCpzl"
      },
      "source": [
        "---"
      ]
    },
    {
      "cell_type": "markdown",
      "metadata": {
        "id": "17ncLmE-EAzi"
      },
      "source": [
        "# **Mãos no código!**\n",
        "\n",
        "### A função **`print()`** exibe uma informação na tela:\n",
        "\n",
        "Exemplo: **`print(100)`**"
      ]
    },
    {
      "cell_type": "code",
      "metadata": {
        "id": "QN7j5GWvH9Yw",
        "colab": {
          "base_uri": "https://localhost:8080/"
        },
        "outputId": "4fcf5410-14d8-4818-892d-df6eb9b7cbe4"
      },
      "source": [
        "# executando a função print() com o valor 100\n",
        "print(100)"
      ],
      "execution_count": 1,
      "outputs": [
        {
          "output_type": "stream",
          "name": "stdout",
          "text": [
            "100\n"
          ]
        }
      ]
    },
    {
      "cell_type": "code",
      "metadata": {
        "id": "aSxnrD4oH9-u",
        "colab": {
          "base_uri": "https://localhost:8080/"
        },
        "outputId": "21f4019c-1848-48a2-a6f2-97fc9f0fc6bb"
      },
      "source": [
        "# passando uma operação matemática para a função print()\n",
        "print(100 + 200)"
      ],
      "execution_count": 2,
      "outputs": [
        {
          "output_type": "stream",
          "name": "stdout",
          "text": [
            "300\n"
          ]
        }
      ]
    },
    {
      "cell_type": "markdown",
      "metadata": {
        "id": "NmwPo40KIdSq"
      },
      "source": [
        "# **Variáveis e Tipos de Dados**\n",
        "\n",
        "### **Variável** é um espaço na memória no computador, que tem um nome e armazena um valor.\n",
        "\n",
        "Exemplos: \n",
        "\n",
        "`ano = 2021`\n",
        "\n",
        "`peso = 80`\n",
        "\n",
        "### No **Python** `nome` e `Nome` são consideradas variáveis diferentes. Por isso é aconselhável sempre nomear as variáveis em *minúsculo*.\n",
        "\n",
        "Os valores armazenados nas variáveis têm tipos. Alguns exemplos:\n",
        "\n",
        "- Texto: string\n",
        "- Número: integer, float, complex\n",
        "- Sequências: list, tuple\n",
        "- Mapping: dict"
      ]
    },
    {
      "cell_type": "code",
      "metadata": {
        "id": "PnkqTHIuIZJV",
        "colab": {
          "base_uri": "https://localhost:8080/"
        },
        "outputId": "eb2a7649-e583-484e-c7ad-15b9bfae5bb1"
      },
      "source": [
        "# designando valores numéricos para variáveis\n",
        "ano = 2020\n",
        "ano_nasc = 1990\n",
        "idade = ano - ano_nasc\n",
        "\n",
        "# exibe a idade calculada\n",
        "print(idade)"
      ],
      "execution_count": 3,
      "outputs": [
        {
          "output_type": "stream",
          "name": "stdout",
          "text": [
            "30\n"
          ]
        }
      ]
    },
    {
      "cell_type": "code",
      "metadata": {
        "id": "MoFPDjjSJOwr",
        "colab": {
          "base_uri": "https://localhost:8080/"
        },
        "outputId": "201e2bbe-9ffc-48cb-b9d9-f4dca84c5ee0"
      },
      "source": [
        "# designando textos para variáveis\n",
        "nome = \"Paulo\"\n",
        "sobrenome = 'Kuriki'\n",
        "nome_completo = nome + sobrenome\n",
        "\n",
        "print(nome_completo)\n",
        "# Caso o nome completo tenha ficado sem espaço, como você resolveria esse problema?"
      ],
      "execution_count": 4,
      "outputs": [
        {
          "output_type": "stream",
          "name": "stdout",
          "text": [
            "PauloKuriki\n"
          ]
        }
      ]
    },
    {
      "cell_type": "markdown",
      "metadata": {
        "id": "a-XKLb1aJWyg"
      },
      "source": [
        "# **Cláusulas condicionais**\n",
        "\n",
        "Através da declaração `if`, é possível definir condições.\n",
        "\n",
        "Exemplo:\n",
        "\n",
        "`if condição:`\n",
        "\n",
        "> `executa tarefas positivas`\n",
        "\n",
        "> `executa tarefas positivas`\n",
        "\n",
        "> `executa tarefas positivas`\n",
        "\n",
        "`else:`\n",
        "\n",
        "> `executa tarefas negativas`\n",
        "\n",
        "> `executa tarefas negativas`\n",
        "\n",
        "> `executa tarefas negativas`\n",
        "\n",
        "*O **Python** agrupa os blocos de cada condicional pela indentação.*\n"
      ]
    },
    {
      "cell_type": "code",
      "metadata": {
        "id": "8iZxgEHyJQuJ",
        "colab": {
          "base_uri": "https://localhost:8080/"
        },
        "outputId": "7a14f922-d744-4977-8e4b-14ceaf0eee45"
      },
      "source": [
        "ano = 2020\n",
        "ano_nasc = 2000\n",
        "idade = ano - ano_nasc\n",
        "\n",
        "# avalia se é maior de idade\n",
        "if idade >= 18:\n",
        "    print(idade, \"Você é maior de idade. Pode comprar cerveja.\")\n",
        "else:\n",
        "    print(idade, \"Você é menor de idade. Vá beber leite.\")\n",
        "# mude a data de nascimento e execute novamente"
      ],
      "execution_count": 5,
      "outputs": [
        {
          "output_type": "stream",
          "name": "stdout",
          "text": [
            "20 Você é maior de idade. Pode comprar cerveja.\n"
          ]
        }
      ]
    },
    {
      "cell_type": "markdown",
      "metadata": {
        "id": "qH2AAA4DJjXQ"
      },
      "source": [
        "# **Sequências**\n",
        "\n",
        "Sequências são conjuntos de dados que podem ser agrupados.\n",
        "\n",
        "Existem vários tipos de sequências, como: \n",
        "*   `listas`\n",
        "*   `tuplas`\n",
        "*   `sets`\n",
        "*   `dicionários`"
      ]
    },
    {
      "cell_type": "code",
      "metadata": {
        "id": "Qywh5h7UJlRa",
        "colab": {
          "base_uri": "https://localhost:8080/"
        },
        "outputId": "5e7c1595-ba8c-442b-cf7b-0591c8c0b58d"
      },
      "source": [
        "# cria uma lista de tipos de exames\n",
        "exames = [\"RM de Crânio\", \"RM da Coluna Cervical\", \"RM da Coluna Torácica\", \"RM da Columa Lombar\"]\n",
        "\n",
        "print(exames)"
      ],
      "execution_count": 6,
      "outputs": [
        {
          "output_type": "stream",
          "name": "stdout",
          "text": [
            "['RM de Crânio', 'RM da Coluna Cervical', 'RM da Coluna Torácica', 'RM da Columa Lombar']\n"
          ]
        }
      ]
    },
    {
      "cell_type": "markdown",
      "metadata": {
        "id": "vGcFJtnUJw36"
      },
      "source": [
        "# **Loops**\n",
        "\n",
        "Loops servem para repetir determinadas ações. Os principais tipos de loops em Python são o `for` e o `while`\n",
        "\n",
        "`for`: Serve para iterar por uma sequência, como por exemplo, uma `lista`.\n",
        "\n",
        "`while`: Executa um loop enquanto uma condição for atendida. \n"
      ]
    },
    {
      "cell_type": "code",
      "metadata": {
        "id": "lsXZFaFhJtwk",
        "colab": {
          "base_uri": "https://localhost:8080/"
        },
        "outputId": "509b4b13-6f49-4a1b-b7b5-2c4aedd46f42"
      },
      "source": [
        "# ---- Usando o FOR para iterar por uma lista ---- \n",
        "\n",
        "# cria uma lista de tipos de exames\n",
        "exames = [\"RM de Crânio\", \"RM da Coluna Cervical\", \"RM da Coluna Torácica\", \"RM da Columa Lombar\"]\n",
        "\n",
        "# loop do tipo FOR que executa uma iteração na lista exames\n",
        "for exame in exames:\n",
        "    print(\"Eu laudo:\", exame)"
      ],
      "execution_count": 7,
      "outputs": [
        {
          "output_type": "stream",
          "name": "stdout",
          "text": [
            "Eu laudo: RM de Crânio\n",
            "Eu laudo: RM da Coluna Cervical\n",
            "Eu laudo: RM da Coluna Torácica\n",
            "Eu laudo: RM da Columa Lombar\n"
          ]
        }
      ]
    },
    {
      "cell_type": "code",
      "metadata": {
        "id": "-zqHB8-IJqiB",
        "colab": {
          "base_uri": "https://localhost:8080/"
        },
        "outputId": "39cd08ab-38c1-490d-802b-0a8b57563297"
      },
      "source": [
        "# ---- Usando o WHILE para executar o loop ---- \n",
        "\n",
        "# contagem regressiva\n",
        "numero = 5\n",
        "\n",
        "# loop do tipo WHILE executado enquanto a variável for maior do que zero\n",
        "while numero > 0:\n",
        "    print(\"Contagem:\", numero)\n",
        "    numero = numero - 1"
      ],
      "execution_count": 8,
      "outputs": [
        {
          "output_type": "stream",
          "name": "stdout",
          "text": [
            "Contagem: 5\n",
            "Contagem: 4\n",
            "Contagem: 3\n",
            "Contagem: 2\n",
            "Contagem: 1\n"
          ]
        }
      ]
    },
    {
      "cell_type": "markdown",
      "metadata": {
        "id": "s0ngqizAzrPP"
      },
      "source": [
        "# Preparando o ambiente de testes"
      ]
    },
    {
      "cell_type": "code",
      "metadata": {
        "id": "fXkhxrnLWdsy",
        "colab": {
          "base_uri": "https://localhost:8080/"
        },
        "outputId": "801e95da-edfe-41c2-f545-af072f007c2e"
      },
      "source": [
        "#@title Executar configuração do ambiente { vertical-output: true, display-mode: \"form\" }\n",
        "!pip install pydicom\n",
        "!pip install ipywidgets\n",
        "\n",
        "import platform\n",
        "\n",
        "if platform.system() == 'Windows':\n",
        "    !del *.dcm\n",
        "    !del *.jpg\n",
        "    \n",
        "    # pode ser necessário, baixar o wget para windows do endereco: https://eternallybored.org/misc/wget/1.20.3/64/wget.exe\n",
        "    !wget https://github.com/paulokuriki/python_for_rads/raw/master/torax.zip\n",
        "    !tar -xf torax.zip\n",
        "else:\n",
        "    !rm *.dcm\n",
        "    !rm *.jpg\n",
        "    !wget https://github.com/paulokuriki/python_for_rads/raw/master/torax.zip\n",
        "    !unzip torax.zip\n",
        "print('\\n\\n----- AMBIENTE DE TESTES PREPARADO. -----')"
      ],
      "execution_count": 9,
      "outputs": [
        {
          "output_type": "stream",
          "name": "stdout",
          "text": [
            "Collecting pydicom\n",
            "  Downloading pydicom-2.2.1-py3-none-any.whl (2.0 MB)\n",
            "\u001b[K     |████████████████████████████████| 2.0 MB 5.0 MB/s \n",
            "\u001b[?25hInstalling collected packages: pydicom\n",
            "Successfully installed pydicom-2.2.1\n",
            "Requirement already satisfied: ipywidgets in /usr/local/lib/python3.7/dist-packages (7.6.5)\n",
            "Requirement already satisfied: jupyterlab-widgets>=1.0.0 in /usr/local/lib/python3.7/dist-packages (from ipywidgets) (1.0.2)\n",
            "Requirement already satisfied: widgetsnbextension~=3.5.0 in /usr/local/lib/python3.7/dist-packages (from ipywidgets) (3.5.1)\n",
            "Requirement already satisfied: traitlets>=4.3.1 in /usr/local/lib/python3.7/dist-packages (from ipywidgets) (5.1.0)\n",
            "Requirement already satisfied: nbformat>=4.2.0 in /usr/local/lib/python3.7/dist-packages (from ipywidgets) (5.1.3)\n",
            "Requirement already satisfied: ipython-genutils~=0.2.0 in /usr/local/lib/python3.7/dist-packages (from ipywidgets) (0.2.0)\n",
            "Requirement already satisfied: ipykernel>=4.5.1 in /usr/local/lib/python3.7/dist-packages (from ipywidgets) (4.10.1)\n",
            "Requirement already satisfied: ipython>=4.0.0 in /usr/local/lib/python3.7/dist-packages (from ipywidgets) (5.5.0)\n",
            "Requirement already satisfied: tornado>=4.0 in /usr/local/lib/python3.7/dist-packages (from ipykernel>=4.5.1->ipywidgets) (5.1.1)\n",
            "Requirement already satisfied: jupyter-client in /usr/local/lib/python3.7/dist-packages (from ipykernel>=4.5.1->ipywidgets) (5.3.5)\n",
            "Requirement already satisfied: simplegeneric>0.8 in /usr/local/lib/python3.7/dist-packages (from ipython>=4.0.0->ipywidgets) (0.8.1)\n",
            "Requirement already satisfied: pickleshare in /usr/local/lib/python3.7/dist-packages (from ipython>=4.0.0->ipywidgets) (0.7.5)\n",
            "Requirement already satisfied: prompt-toolkit<2.0.0,>=1.0.4 in /usr/local/lib/python3.7/dist-packages (from ipython>=4.0.0->ipywidgets) (1.0.18)\n",
            "Requirement already satisfied: decorator in /usr/local/lib/python3.7/dist-packages (from ipython>=4.0.0->ipywidgets) (4.4.2)\n",
            "Requirement already satisfied: pygments in /usr/local/lib/python3.7/dist-packages (from ipython>=4.0.0->ipywidgets) (2.6.1)\n",
            "Requirement already satisfied: pexpect in /usr/local/lib/python3.7/dist-packages (from ipython>=4.0.0->ipywidgets) (4.8.0)\n",
            "Requirement already satisfied: setuptools>=18.5 in /usr/local/lib/python3.7/dist-packages (from ipython>=4.0.0->ipywidgets) (57.4.0)\n",
            "Requirement already satisfied: jsonschema!=2.5.0,>=2.4 in /usr/local/lib/python3.7/dist-packages (from nbformat>=4.2.0->ipywidgets) (2.6.0)\n",
            "Requirement already satisfied: jupyter-core in /usr/local/lib/python3.7/dist-packages (from nbformat>=4.2.0->ipywidgets) (4.7.1)\n",
            "Requirement already satisfied: wcwidth in /usr/local/lib/python3.7/dist-packages (from prompt-toolkit<2.0.0,>=1.0.4->ipython>=4.0.0->ipywidgets) (0.2.5)\n",
            "Requirement already satisfied: six>=1.9.0 in /usr/local/lib/python3.7/dist-packages (from prompt-toolkit<2.0.0,>=1.0.4->ipython>=4.0.0->ipywidgets) (1.15.0)\n",
            "Requirement already satisfied: notebook>=4.4.1 in /usr/local/lib/python3.7/dist-packages (from widgetsnbextension~=3.5.0->ipywidgets) (5.3.1)\n",
            "Requirement already satisfied: jinja2 in /usr/local/lib/python3.7/dist-packages (from notebook>=4.4.1->widgetsnbextension~=3.5.0->ipywidgets) (2.11.3)\n",
            "Requirement already satisfied: Send2Trash in /usr/local/lib/python3.7/dist-packages (from notebook>=4.4.1->widgetsnbextension~=3.5.0->ipywidgets) (1.8.0)\n",
            "Requirement already satisfied: terminado>=0.8.1 in /usr/local/lib/python3.7/dist-packages (from notebook>=4.4.1->widgetsnbextension~=3.5.0->ipywidgets) (0.12.1)\n",
            "Requirement already satisfied: nbconvert in /usr/local/lib/python3.7/dist-packages (from notebook>=4.4.1->widgetsnbextension~=3.5.0->ipywidgets) (5.6.1)\n",
            "Requirement already satisfied: python-dateutil>=2.1 in /usr/local/lib/python3.7/dist-packages (from jupyter-client->ipykernel>=4.5.1->ipywidgets) (2.8.2)\n",
            "Requirement already satisfied: pyzmq>=13 in /usr/local/lib/python3.7/dist-packages (from jupyter-client->ipykernel>=4.5.1->ipywidgets) (22.3.0)\n",
            "Requirement already satisfied: ptyprocess in /usr/local/lib/python3.7/dist-packages (from terminado>=0.8.1->notebook>=4.4.1->widgetsnbextension~=3.5.0->ipywidgets) (0.7.0)\n",
            "Requirement already satisfied: MarkupSafe>=0.23 in /usr/local/lib/python3.7/dist-packages (from jinja2->notebook>=4.4.1->widgetsnbextension~=3.5.0->ipywidgets) (2.0.1)\n",
            "Requirement already satisfied: entrypoints>=0.2.2 in /usr/local/lib/python3.7/dist-packages (from nbconvert->notebook>=4.4.1->widgetsnbextension~=3.5.0->ipywidgets) (0.3)\n",
            "Requirement already satisfied: pandocfilters>=1.4.1 in /usr/local/lib/python3.7/dist-packages (from nbconvert->notebook>=4.4.1->widgetsnbextension~=3.5.0->ipywidgets) (1.5.0)\n",
            "Requirement already satisfied: testpath in /usr/local/lib/python3.7/dist-packages (from nbconvert->notebook>=4.4.1->widgetsnbextension~=3.5.0->ipywidgets) (0.5.0)\n",
            "Requirement already satisfied: bleach in /usr/local/lib/python3.7/dist-packages (from nbconvert->notebook>=4.4.1->widgetsnbextension~=3.5.0->ipywidgets) (4.1.0)\n",
            "Requirement already satisfied: mistune<2,>=0.8.1 in /usr/local/lib/python3.7/dist-packages (from nbconvert->notebook>=4.4.1->widgetsnbextension~=3.5.0->ipywidgets) (0.8.4)\n",
            "Requirement already satisfied: defusedxml in /usr/local/lib/python3.7/dist-packages (from nbconvert->notebook>=4.4.1->widgetsnbextension~=3.5.0->ipywidgets) (0.7.1)\n",
            "Requirement already satisfied: packaging in /usr/local/lib/python3.7/dist-packages (from bleach->nbconvert->notebook>=4.4.1->widgetsnbextension~=3.5.0->ipywidgets) (21.0)\n",
            "Requirement already satisfied: webencodings in /usr/local/lib/python3.7/dist-packages (from bleach->nbconvert->notebook>=4.4.1->widgetsnbextension~=3.5.0->ipywidgets) (0.5.1)\n",
            "Requirement already satisfied: pyparsing>=2.0.2 in /usr/local/lib/python3.7/dist-packages (from packaging->bleach->nbconvert->notebook>=4.4.1->widgetsnbextension~=3.5.0->ipywidgets) (2.4.7)\n",
            "rm: cannot remove '*.dcm': No such file or directory\n",
            "rm: cannot remove '*.jpg': No such file or directory\n",
            "--2021-09-24 23:56:44--  https://github.com/paulokuriki/python_for_rads/raw/master/torax.zip\n",
            "Resolving github.com (github.com)... 140.82.114.4\n",
            "Connecting to github.com (github.com)|140.82.114.4|:443... connected.\n",
            "HTTP request sent, awaiting response... 302 Found\n",
            "Location: https://raw.githubusercontent.com/paulokuriki/python_for_rads/master/torax.zip [following]\n",
            "--2021-09-24 23:56:44--  https://raw.githubusercontent.com/paulokuriki/python_for_rads/master/torax.zip\n",
            "Resolving raw.githubusercontent.com (raw.githubusercontent.com)... 185.199.108.133, 185.199.109.133, 185.199.110.133, ...\n",
            "Connecting to raw.githubusercontent.com (raw.githubusercontent.com)|185.199.108.133|:443... connected.\n",
            "HTTP request sent, awaiting response... 200 OK\n",
            "Length: 24690498 (24M) [application/zip]\n",
            "Saving to: ‘torax.zip’\n",
            "\n",
            "torax.zip           100%[===================>]  23.55M  --.-KB/s    in 0.1s    \n",
            "\n",
            "2021-09-24 23:56:45 (157 MB/s) - ‘torax.zip’ saved [24690498/24690498]\n",
            "\n",
            "Archive:  torax.zip\n",
            "  inflating: 00000006.dcm            \n",
            "  inflating: 00000007.dcm            \n",
            "  inflating: 00000008.dcm            \n",
            "  inflating: 00000009.dcm            \n",
            "  inflating: 00000010.dcm            \n",
            "  inflating: 00000011.dcm            \n",
            "  inflating: 00000012.dcm            \n",
            "  inflating: 00000013.dcm            \n",
            "  inflating: 00000014.dcm            \n",
            "  inflating: 00000015.dcm            \n",
            "  inflating: 00000016.dcm            \n",
            "  inflating: 00000017.dcm            \n",
            "  inflating: 00000018.dcm            \n",
            "  inflating: 00000019.dcm            \n",
            "  inflating: 00000020.dcm            \n",
            "  inflating: 00000021.dcm            \n",
            "  inflating: 00000022.dcm            \n",
            "  inflating: 00000023.dcm            \n",
            "  inflating: 00000024.dcm            \n",
            "  inflating: 00000025.dcm            \n",
            "  inflating: 00000026.dcm            \n",
            "  inflating: 00000027.dcm            \n",
            "  inflating: 00000028.dcm            \n",
            "  inflating: 00000029.dcm            \n",
            "  inflating: 00000030.dcm            \n",
            "  inflating: 00000031.dcm            \n",
            "  inflating: 00000032.dcm            \n",
            "  inflating: 00000033.dcm            \n",
            "  inflating: 00000034.dcm            \n",
            "  inflating: 00000035.dcm            \n",
            "  inflating: 00000036.dcm            \n",
            "  inflating: 00000037.dcm            \n",
            "  inflating: 00000038.dcm            \n",
            "  inflating: 00000039.dcm            \n",
            "  inflating: 00000040.dcm            \n",
            "  inflating: 00000041.dcm            \n",
            "  inflating: 00000042.dcm            \n",
            "  inflating: 00000043.dcm            \n",
            "  inflating: 00000044.dcm            \n",
            "  inflating: 00000045.dcm            \n",
            "  inflating: 00000046.dcm            \n",
            "  inflating: 00000047.dcm            \n",
            "  inflating: 00000048.dcm            \n",
            "  inflating: 00000049.dcm            \n",
            "  inflating: 00000050.dcm            \n",
            "  inflating: 00000051.dcm            \n",
            "  inflating: 00000052.dcm            \n",
            "  inflating: 00000053.dcm            \n",
            "  inflating: 00000054.dcm            \n",
            "  inflating: 00000055.dcm            \n",
            "  inflating: 00000056.dcm            \n",
            "  inflating: 00000057.dcm            \n",
            "  inflating: 00000058.dcm            \n",
            "  inflating: 00000059.dcm            \n",
            "  inflating: 00000060.dcm            \n",
            "  inflating: 00000061.dcm            \n",
            "  inflating: 00000062.dcm            \n",
            "  inflating: 00000063.dcm            \n",
            "  inflating: 00000064.dcm            \n",
            "  inflating: 00000065.dcm            \n",
            "  inflating: 00000066.dcm            \n",
            "  inflating: 00000067.dcm            \n",
            "  inflating: 00000068.dcm            \n",
            "  inflating: 00000069.dcm            \n",
            "  inflating: 00000070.dcm            \n",
            "  inflating: 00000071.dcm            \n",
            "  inflating: 00000072.dcm            \n",
            "  inflating: 00000073.dcm            \n",
            "  inflating: 00000074.dcm            \n",
            "  inflating: 00000075.dcm            \n",
            "  inflating: 00000076.dcm            \n",
            "  inflating: 00000077.dcm            \n",
            "  inflating: 00000078.dcm            \n",
            "  inflating: 00000079.dcm            \n",
            "  inflating: 00000080.dcm            \n",
            "  inflating: 00000081.dcm            \n",
            "  inflating: 00000082.dcm            \n",
            "  inflating: 00000083.dcm            \n",
            "  inflating: 00000084.dcm            \n",
            "  inflating: 00000085.dcm            \n",
            "  inflating: 00000086.dcm            \n",
            "  inflating: 00000087.dcm            \n",
            "  inflating: 00000088.dcm            \n",
            "  inflating: 00000089.dcm            \n",
            "  inflating: 00000090.dcm            \n",
            "  inflating: 00000091.dcm            \n",
            "  inflating: 00000092.dcm            \n",
            "  inflating: 00000093.dcm            \n",
            "  inflating: 00000094.dcm            \n",
            "  inflating: 00000095.dcm            \n",
            "  inflating: 00000096.dcm            \n",
            "  inflating: 00000097.dcm            \n",
            "  inflating: 00000098.dcm            \n",
            "  inflating: 00000099.dcm            \n",
            "  inflating: 00000100.dcm            \n",
            "  inflating: 00000101.dcm            \n",
            "  inflating: 00000102.dcm            \n",
            "  inflating: 00000103.dcm            \n",
            "\n",
            "\n",
            "----- AMBIENTE DE TESTES PREPARADO. -----\n"
          ]
        }
      ]
    },
    {
      "cell_type": "markdown",
      "metadata": {
        "id": "opwfKMXYZ5Kj"
      },
      "source": [
        "# **Arquivos DICOM no Python**\n",
        "\n",
        "O Python dispõe de duas bibliotecas para tratamento de arquivos e transmissões DICOM\n",
        "\n",
        "`pydicom`: Utilizada para abrir arquivos DICOM, ler metadados e imagens e salvar exames.\n",
        "\n",
        "`pynetdicom`: Utilizada para fazer queries no PACS e fazer transmissões de arquivos DICOM"
      ]
    },
    {
      "cell_type": "markdown",
      "metadata": {
        "id": "iwgqvImGaCwN"
      },
      "source": [
        "# **Exibindo imagens DICOM**\n",
        "\n",
        "1.  Importe as bibliotecas `pydicom` e `matplotlib`. \n",
        "2.  Abra o arquivo DICOM usando a função `pydicom.dcmread(nome_do_arquivo)`.\n",
        "3.  A matriz da imagem pode ser acessada pela propridade `pixel_array`.\n",
        "4.  Carregue no módulo `pyplot` do `matplotlib` o `pixel_array` do DICOM.\n",
        "5.  Exiba a imagem utilizando a função `show()`.\n"
      ]
    },
    {
      "cell_type": "code",
      "metadata": {
        "id": "K9Qc3NElMWrD",
        "colab": {
          "base_uri": "https://localhost:8080/",
          "height": 269
        },
        "outputId": "5f9177df-20a1-4880-c0e7-4e5d2e6b7f89"
      },
      "source": [
        "import pydicom\n",
        "from matplotlib import pyplot\n",
        "\n",
        "# define variável com o caminho completo para o arquivo DICOM\n",
        "var_arq_dicom = \"00000070.dcm\"\n",
        "\n",
        "# lê o arquivo DICOM utilizando a função dcmread\n",
        "dataset = pydicom.dcmread(var_arq_dicom)\n",
        "\n",
        "# carrega o pixel_array da imagem no pyplot e exibe a imagem \n",
        "pyplot.imshow(dataset.pixel_array, cmap=pyplot.cm.gray)\n",
        "pyplot.show()\n"
      ],
      "execution_count": 10,
      "outputs": [
        {
          "output_type": "display_data",
          "data": {
            "image/png": "[encoded data removed]",
            "text/plain": [
              "<Figure size 432x288 with 1 Axes>"
            ]
          },
          "metadata": {
            "needs_background": "light"
          }
        }
      ]
    },
    {
      "cell_type": "markdown",
      "metadata": {
        "id": "1w11Am3TaFA3"
      },
      "source": [
        "# **Lendo as Tags DICOM**\n",
        "\n",
        "1.  Abra o arquivo DICOM usando a função `pydicom.dcmread(nome_do_arquivo)`.\n",
        "2.  Obtenha as Tags DICOM lendo as propriedades do objeto `dataset`\n",
        "\n",
        "Exemplo: `print(dataset.PatientAge)`\n"
      ]
    },
    {
      "cell_type": "code",
      "metadata": {
        "id": "FBlvPXsdaGyN",
        "colab": {
          "base_uri": "https://localhost:8080/"
        },
        "outputId": "21404542-06a3-4150-c8f1-789d4336eaf4"
      },
      "source": [
        "# variável com o caminho completo para o arquivo DICOM\n",
        "var_arq_dicom = \"00000070.dcm\"\n",
        "\n",
        "# lê o arquivo DICOM utilizando a função dcmread\n",
        "dataset = pydicom.dcmread(var_arq_dicom)\n",
        "\n",
        "print (\"Idade:\",  dataset.PatientAge)\n",
        "print (\"Acc Number:\", dataset.AccessionNumber)\n",
        "print (\"Nome da série:\", dataset.SeriesDescription)\n",
        "print (\"Data da Aquisição:\", dataset.AcquisitionDate)\n"
      ],
      "execution_count": 11,
      "outputs": [
        {
          "output_type": "stream",
          "name": "stdout",
          "text": [
            "Idade: 061Y\n",
            "Acc Number: 1543542211\n",
            "Nome da série: MEDIASTINO Body 1.0\n",
            "Data da Aquisição: 20150605\n"
          ]
        }
      ]
    },
    {
      "cell_type": "markdown",
      "metadata": {
        "id": "7GJ1CKpfaJFw"
      },
      "source": [
        "# **Lendo todos os arquivos DICOM de uma pasta**\n",
        "\n",
        "1. Importe a biblioteca `glob` para criar uma lista com todos os arquivos dentro de uma determinada pasta. Se necessário, utilize o parâmetro `recursive=True`, para que ele inclua pastas dentro de pastas.\n",
        "2. Utilize os códigos acima como modelo e insira dentro de um loop for para exibir as informações de cada arquivo DICOM."
      ]
    },
    {
      "cell_type": "code",
      "metadata": {
        "id": "-nRzCcJbaK6_",
        "colab": {
          "base_uri": "https://localhost:8080/",
          "height": 1000
        },
        "outputId": "d793c395-ec35-4334-e5fe-71d86995526d"
      },
      "source": [
        "import glob\n",
        "\n",
        "# define a pasta inicial que será vasculhada. Define que serão procurados os arquivos com extensão .dcm\n",
        "var_arquivos = \"*.dcm\"\n",
        "\n",
        "# o objeto glob cria uma lista com o nome de todos os arquivos encontrados que atendam o filtro informado no parâmetro. \n",
        "lista_dicom_files = glob.glob(var_arquivos, recursive=True)\n",
        "\n",
        "# define quantos arquivos deve exibir no maximo\n",
        "max_dicom_files = 3\n",
        "\n",
        "# loop para cada arquivo DICOM encontrado na lista criada pelo objeto glob\n",
        "for var_arq_dicom in lista_dicom_files[0:max_dicom_files]:\n",
        "    dataset = pydicom.dcmread(var_arq_dicom)\n",
        "    print(var_arq_dicom)\n",
        "    print (\"Idade:\",  dataset.PatientAge)\n",
        "    print (\"Acc Number:\", dataset.AccessionNumber)\n",
        "    print (\"Nome da série:\", dataset.SeriesDescription)\n",
        "    print (\"Data da Aquisição:\", dataset.AcquisitionDate)\n",
        "\n",
        "    pyplot.imshow(dataset.pixel_array, cmap=pyplot.cm.gray)\n",
        "    pyplot.show()"
      ],
      "execution_count": 12,
      "outputs": [
        {
          "output_type": "stream",
          "name": "stdout",
          "text": [
            "00000033.dcm\n",
            "Idade: 061Y\n",
            "Acc Number: 1543542211\n",
            "Nome da série: MEDIASTINO Body 1.0\n",
            "Data da Aquisição: 20150605\n"
          ]
        },
        {
          "output_type": "display_data",
          "data": {
            "image/png": "[encoded data removed]",
            "text/plain": [
              "<Figure size 432x288 with 1 Axes>"
            ]
          },
          "metadata": {
            "needs_background": "light"
          }
        },
        {
          "output_type": "stream",
          "name": "stdout",
          "text": [
            "00000091.dcm\n",
            "Idade: 061Y\n",
            "Acc Number: 1543542211\n",
            "Nome da série: MEDIASTINO Body 1.0\n",
            "Data da Aquisição: 20150605\n"
          ]
        },
        {
          "output_type": "display_data",
          "data": {
            "image/png": "[encoded data removed]",
            "text/plain": [
              "<Figure size 432x288 with 1 Axes>"
            ]
          },
          "metadata": {
            "needs_background": "light"
          }
        },
        {
          "output_type": "stream",
          "name": "stdout",
          "text": [
            "00000009.dcm\n",
            "Idade: 061Y\n",
            "Acc Number: 1543542211\n",
            "Nome da série: MEDIASTINO Body 1.0\n",
            "Data da Aquisição: 20150605\n"
          ]
        },
        {
          "output_type": "display_data",
          "data": {
            "image/png": "[encoded data removed]",
            "text/plain": [
              "<Figure size 432x288 with 1 Axes>"
            ]
          },
          "metadata": {
            "needs_background": "light"
          }
        }
      ]
    },
    {
      "cell_type": "markdown",
      "metadata": {
        "id": "aUSXn48p6pXf"
      },
      "source": [
        "# **Criando nosso Próprio DICOM Viewer em Python**"
      ]
    },
    {
      "cell_type": "markdown",
      "metadata": {
        "id": "DpqxoXcCCQUj"
      },
      "source": [
        "### Passo 1: Lendo os arquivos DICOM e armazenando na memória\n",
        "\n",
        "Aumenta a performance, reduzindo o tempo de scroll das imagens"
      ]
    },
    {
      "cell_type": "code",
      "metadata": {
        "id": "8HgFP2Tl6TPy",
        "colab": {
          "base_uri": "https://localhost:8080/"
        },
        "outputId": "73471f3b-ae45-45b7-eed5-e7a404a276e3"
      },
      "source": [
        "import pydicom\n",
        "import glob\n",
        "\n",
        "# define a pasta inicial que será vasculhada. Define que serão procurados os arquivos com extensão .dcm\n",
        "var_pasta = \"*.dcm\"\n",
        "\n",
        "# o objeto glob cria uma lista com o nome de todos os arquivos encontrados que atendam o filtro informado no parâmetro. \n",
        "lista_dicom_files = sorted(glob.glob(var_pasta))\n",
        "\n",
        "# inicializa a lista que vai receber o nome dos arquivos e o pixel array\n",
        "dicom_images_list = []\n",
        "\n",
        "# loop para cada arquivo DICOM encontrado na lista criada pelo objeto glob\n",
        "for var_arq_dicom in lista_dicom_files:\n",
        "    # le o arquivo DICOM e armazena num objeto pydicom.Dataset\n",
        "    ds = pydicom.dcmread(var_arq_dicom)\n",
        "\n",
        "    # le o slope e o intercept e converte para unidades Hounsfield\n",
        "    slope = float(ds.RescaleSlope)\n",
        "    intercept = float(ds.RescaleIntercept)\n",
        "    img_pixel_array = intercept + ds.pixel_array * slope\n",
        "    dicom_images_list.append({'filename': var_arq_dicom, 'pixel_array': img_pixel_array})\n",
        "\n",
        "print(f'{len(dicom_images_list)} arquivos encontrados.')"
      ],
      "execution_count": 13,
      "outputs": [
        {
          "output_type": "stream",
          "name": "stdout",
          "text": [
            "98 arquivos encontrados.\n"
          ]
        }
      ]
    },
    {
      "cell_type": "markdown",
      "metadata": {
        "id": "7eE--CJvCZkE"
      },
      "source": [
        "### Passo 2: Criando a função de exibição dos arquivos DICOM\n",
        "\n",
        "Esta função vai receber os parâmetros de janela, zoom, slice, ect. e exibir a imagem DICOM"
      ]
    },
    {
      "cell_type": "code",
      "metadata": {
        "id": "G-gjZQzG7gip"
      },
      "source": [
        "import matplotlib.pyplot as plt\n",
        "\n",
        "# criacao da funcao show_dicom_image que vai exibir uma imagem dicom de acordo com os parametros recebidos\n",
        "def show_dicom_image(scroll, window_level, window_width, zoom, predefined_window, save_to_file):\n",
        "\n",
        "    # caso o usuario tenha selecionado uma janela pré-definida, sobrescreve os valores desta janela\n",
        "    if predefined_window == 'lung':\n",
        "        window_level = -600\n",
        "        window_width = 1500\n",
        "    elif predefined_window == 'mediastinum':\n",
        "        window_level = 50\n",
        "        window_width = 350\n",
        "    elif predefined_window == 'bone':\n",
        "        window_level = 400\n",
        "        window_width = 1800\n",
        "\n",
        "    # calcula os valores minimos e máximos da janela \n",
        "    vmin = window_level - (window_width / 2)\n",
        "    vmax = window_level + (window_width / 2)\n",
        "    \n",
        "    # define as propriedades da imagem, incluindo a janela a ser utilizada\n",
        "    plt.figure(figsize=(zoom, zoom))\n",
        "    plt.axis('off')\n",
        "    img_pixel_array = dicom_images_list[scroll-1].get('pixel_array',0)\n",
        "\n",
        "    # mostra a imagem na tela\n",
        "    plt.imshow(img_pixel_array, vmin=vmin, vmax=vmax, cmap='gray')\n",
        "    \n",
        "    # caso tenha optado, faz também uma cópia da imagem em jpeg\n",
        "    if save_to_file:\n",
        "        # define o nome do arquivo a ser exportado e salva a imagem no arquivo\n",
        "        var_arq_dicom = dicom_images_list[scroll-1].get('filename','noname.dcm')\n",
        "        var_nome_arq_jpg = var_arq_dicom.replace('.dcm', '.jpg')\n",
        "        plt.savefig(var_nome_arq_jpg)\n",
        "        print(f'Salvo para o arquivo: {var_nome_arq_jpg}')\n",
        "\n",
        "    # mostra na tela os parametros da imagem exibida\n",
        "    print(f\"Slice: {scroll}     WL: {window_level}     WW: {window_width}     Zoom: {zoom}\")"
      ],
      "execution_count": 14,
      "outputs": []
    },
    {
      "cell_type": "markdown",
      "metadata": {
        "id": "c55dhbFLC3iO"
      },
      "source": [
        "### Passo 3: Criação da Tela do Visualizador"
      ]
    },
    {
      "cell_type": "code",
      "metadata": {
        "id": "eHA_utB3zmu1",
        "colab": {
          "base_uri": "https://localhost:8080/",
          "height": 457,
          "referenced_widgets": [
            "091457196b7946d78b49ae09fb71cd93",
            "2b81a721b5e14fa792ffddbd0d040253",
            "e97e08eec1794a509e5d403866211197",
            "4fee8c1ce0a94e2fb2f7f262739623d4",
            "6c7e72a799274ff288bf31618dd9dc79",
            "64c57d31916147cfbfa773a09101eb65",
            "fdcb01822da645409eef7e5b374d21c6",
            "c9b85e080bc4409aa239c08aa0aa9117",
            "d1019bc5c58d4bb29835a4ab42c39148",
            "124dde88d4ee4d288fd507ea2bca1f1b",
            "ee7043bf92814089927b3a43442545c0",
            "84edf0b0ceee4e46b96236951fa5f8ca",
            "ed4a34217c724419899caba4f773da73",
            "952c2b44210d45bebb5cb886ef103d77",
            "e712964284ba4c8a9ea0627c8749841d",
            "00be5d5d81454c73bf79e3bb3b3eda2c",
            "924352a9080e43c58d3b0bbc3756f6b7",
            "cf709d26a50f4259b06018282dce3060",
            "4020b72873da4b1688543a7ac3617841",
            "fb8859b84ed94164af460dfb41e5d854",
            "2b136d1047ad41d895d3bfb58d8ad6ca",
            "4c45b2b96cc34298bae5456d0538795f"
          ]
        },
        "outputId": "97e03be0-171b-4a74-d38c-4f77611a03eb"
      },
      "source": [
        "#@title Carregar o Python DICOM Viewer { vertical-output: true, display-mode: \"form\" }\n",
        "\n",
        "import ipywidgets as widgets\n",
        "from IPython.display import display\n",
        "from ipywidgets import interact\n",
        "\n",
        "total_images = len(dicom_images_list)\n",
        "\n",
        "# define o formulario com o janelamento\n",
        "scroll = widgets.IntSlider(value=54, min=1, max=total_images, step=1, description='Scroll:', continuous_update=True,\n",
        "    orientation='horizontal', readout=True, readout_format='d')\n",
        "window_level = widgets.IntSlider(value=-600, min=-1000, max=1000, step=1, description='Window Level:', continuous_update=True,\n",
        "    orientation='horizontal', readout=True, readout_format='d')\n",
        "window_width = widgets.IntSlider(value=1500, min=0, max=2000, step=1, description='Window Width:', continuous_update=True,\n",
        "    orientation='horizontal', readout=True, readout_format='d')\n",
        "zoom = widgets.IntSlider(value=10, min=1, max=10, step=1, description='Zoom:', continuous_update=True,\n",
        "    orientation='horizontal', readout=True, readout_format='d')\n",
        "predefined_window = [\"custom\", \"lung\", \"mediastinum\", \"bone\"]\n",
        "save_to_file = False \n",
        "\n",
        "# chama de forma interativa a funcao show_dicom_image\n",
        "_ = interact(show_dicom_image, scroll=scroll, window_level=window_level, window_width=window_width, zoom=zoom, predefined_window=predefined_window, save_to_file=save_to_file)"
      ],
      "execution_count": 16,
      "outputs": [
        {
          "output_type": "display_data",
          "data": {
            "application/vnd.jupyter.widget-view+json": {
              "model_id": "091457196b7946d78b49ae09fb71cd93",
              "version_minor": 0,
              "version_major": 2
            },
            "text/plain": [
              "interactive(children=(IntSlider(value=54, description='Scroll:', max=98, min=1), IntSlider(value=-600, descrip…"
            ]
          },
          "metadata": {}
        }
      ]
    },
    {
      "cell_type": "markdown",
      "metadata": {
        "id": "ldeXw6MYlwuL"
      },
      "source": [
        "# **Referências**\n",
        "\n",
        "Atualmente, aprender Python está ao alcance de todos. Seguem algumas sugestões de sites pagos e gratuitos:\n",
        "\n",
        "https://www.codecademy.com/learn/learn-python-3\n",
        "\n",
        "https://realpython.com/start-here/\n",
        "\n",
        "https://www.learnpython.org/\n",
        "\n",
        "https://docs.python.org/3/tutorial/\n",
        "\n",
        "---\n",
        "\n",
        "Link dos Jupyter Notebooks utilizados na aula:\n",
        "\n",
        "https://github.com/paulokuriki/feres_python_2021/\n",
        "\n",
        "---\n",
        "\n",
        "Bons estudos,\n",
        "\n",
        "Paulo Kuriki\n",
        "\n",
        "https://www.linkedin.com/in/paulokuriki/\n"
      ]
    }
  ]
}